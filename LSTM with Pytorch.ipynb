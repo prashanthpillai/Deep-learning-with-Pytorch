{
 "cells": [
  {
   "cell_type": "code",
   "execution_count": 1,
   "metadata": {},
   "outputs": [],
   "source": [
    "import torch\n",
    "import torch.nn as nn\n",
    "import torchvision.transforms as transforms\n",
    "import torchvision.datasets as datasets\n",
    "from torch.autograd import Variable\n",
    "import time"
   ]
  },
  {
   "cell_type": "code",
   "execution_count": 2,
   "metadata": {},
   "outputs": [],
   "source": [
    "train_dataset = datasets.MNIST(root='./data',\n",
    "                               train=True,\n",
    "                              transform=transforms.ToTensor(),\n",
    "                              download=True)\n",
    "test_dataset = datasets.MNIST(root='./data',\n",
    "                               train=False,\n",
    "                              transform=transforms.ToTensor(),\n",
    "                              download=True)"
   ]
  },
  {
   "cell_type": "code",
   "execution_count": 3,
   "metadata": {},
   "outputs": [],
   "source": [
    "batch_size = 100\n",
    "epochs = 5\n",
    "iterations = epochs * len(train_dataset)/batch_size\n",
    "train_loader = torch.utils.data.DataLoader(dataset=train_dataset, batch_size=batch_size,\n",
    "                                          shuffle=True)\n",
    "test_loader = torch.utils.data.DataLoader(dataset=test_dataset, batch_size=batch_size,\n",
    "                                          shuffle=False)"
   ]
  },
  {
   "cell_type": "code",
   "execution_count": 8,
   "metadata": {},
   "outputs": [],
   "source": [
    "class LSTMModel(nn.Module):\n",
    "    def __init__(self, input_dim, hidden_dim, layer_dim, output_dim):\n",
    "        super(LSTMModel, self).__init__()\n",
    "        self.hidden_dim = hidden_dim\n",
    "        self.layer_dim = layer_dim\n",
    "        self.lstm = nn.LSTM(input_dim, hidden_dim, layer_dim, batch_first=True)\n",
    "        self.fc = nn.Linear(hidden_dim, output_dim)\n",
    "        \n",
    "    def forward(self, x):\n",
    "        h0 = Variable(torch.zeros(self.layer_dim, x.size(0), self.hidden_dim).cuda())\n",
    "        c0 = Variable(torch.zeros(self.layer_dim, x.size(0), self.hidden_dim).cuda())\n",
    "        out, (hn, cn) = self.lstm(x, (h0, c0))\n",
    "        out = self.fc(out[:,-1,:])\n",
    "        return out"
   ]
  },
  {
   "cell_type": "code",
   "execution_count": 9,
   "metadata": {},
   "outputs": [
    {
     "data": {
      "text/plain": [
       "LSTMModel(\n",
       "  (lstm): LSTM(28, 100, batch_first=True)\n",
       "  (fc): Linear(in_features=100, out_features=10, bias=True)\n",
       ")"
      ]
     },
     "execution_count": 9,
     "metadata": {},
     "output_type": "execute_result"
    }
   ],
   "source": [
    "input_dim = 28\n",
    "hidden_dim = 100\n",
    "layer_dim = 1\n",
    "output_dim = 10\n",
    "\n",
    "model = LSTMModel(input_dim, hidden_dim, layer_dim, output_dim)\n",
    "model.cuda()"
   ]
  },
  {
   "cell_type": "code",
   "execution_count": 13,
   "metadata": {},
   "outputs": [],
   "source": [
    "criterion = nn.CrossEntropyLoss()\n",
    "learning_rate = 0.1\n",
    "optimizer = torch.optim.SGD(model.parameters(), lr=learning_rate)"
   ]
  },
  {
   "cell_type": "code",
   "execution_count": 14,
   "metadata": {},
   "outputs": [
    {
     "name": "stdout",
     "output_type": "stream",
     "text": [
      "Epoch 0, Iter 500, Loss 1.0740976333618164, Accuracy 70.08\n",
      "Epoch 1, Iter 1000, Loss 0.5941503643989563, Accuracy 85.28\n",
      "Epoch 2, Iter 1500, Loss 0.2734034061431885, Accuracy 93.23\n",
      "Epoch 3, Iter 2000, Loss 0.20964401960372925, Accuracy 94.47\n",
      "Epoch 4, Iter 2500, Loss 0.32857441902160645, Accuracy 94.2\n",
      "Epoch 4, Iter 3000, Loss 0.16948994994163513, Accuracy 95.86\n",
      "Training time 55.67040300369263\n"
     ]
    }
   ],
   "source": [
    "seq_dim =28\n",
    "itern = 0\n",
    "start_time = time.time()\n",
    "for epoch in range(epochs):\n",
    "    for i, (images, labels) in enumerate(train_loader):\n",
    "        \n",
    "        images = Variable(images.view(-1, seq_dim, input_dim).cuda())\n",
    "        labels = Variable(labels.cuda())\n",
    "        \n",
    "        optimizer.zero_grad()\n",
    "        \n",
    "        outputs = model(images)\n",
    "        \n",
    "        loss = criterion(outputs, labels)\n",
    "        loss_val = loss.data.cpu().numpy().reshape(1)[0]\n",
    "        loss.backward()\n",
    "        \n",
    "        optimizer.step()\n",
    "        \n",
    "        itern += 1\n",
    "        if itern%500 ==0:\n",
    "            correct = 0\n",
    "            total = 0\n",
    "            for test_images, test_labels in test_loader:\n",
    "                test_images = Variable(test_images.view(-1, seq_dim, input_dim).cuda())\n",
    "                test_preds = model(test_images)\n",
    "                _, predicted = torch.max(test_preds.data, 1)  \n",
    "                predicted = predicted.cpu()\n",
    "                total +=  test_labels.size(0)\n",
    "                correct += (predicted == test_labels).sum()\n",
    "            correct = correct.numpy().reshape(1)[0]\n",
    "            accuracy = 100 * correct/total    \n",
    "            print('Epoch {}, Iter {}, Loss {}, Accuracy {}'.format(epoch, itern,loss_val, accuracy))\n",
    "print('Training time {}'.format(time.time() - start_time))"
   ]
  },
  {
   "cell_type": "code",
   "execution_count": 15,
   "metadata": {},
   "outputs": [
    {
     "name": "stdout",
     "output_type": "stream",
     "text": [
      "Epoch 0, Iter 500, Loss 2.2955307960510254, Accuracy 11.37\n",
      "Epoch 1, Iter 1000, Loss 1.7881383895874023, Accuracy 35.77\n",
      "Epoch 2, Iter 1500, Loss 0.8789016604423523, Accuracy 70.85\n",
      "Epoch 3, Iter 2000, Loss 0.2187109738588333, Accuracy 92.69\n",
      "Epoch 4, Iter 2500, Loss 0.13512539863586426, Accuracy 95.09\n",
      "Epoch 4, Iter 3000, Loss 0.22372448444366455, Accuracy 96.19\n",
      "Training time 68.01184701919556\n"
     ]
    }
   ],
   "source": [
    "input_dim = 28\n",
    "hidden_dim = 100\n",
    "layer_dim = 2\n",
    "output_dim = 10\n",
    "\n",
    "model = LSTMModel(input_dim, hidden_dim, layer_dim, output_dim)\n",
    "model.cuda()\n",
    "\n",
    "criterion = nn.CrossEntropyLoss()\n",
    "learning_rate = 0.1\n",
    "optimizer = torch.optim.SGD(model.parameters(), lr=learning_rate)\n",
    "\n",
    "seq_dim =28\n",
    "itern = 0\n",
    "start_time = time.time()\n",
    "for epoch in range(epochs):\n",
    "    for i, (images, labels) in enumerate(train_loader):\n",
    "        \n",
    "        images = Variable(images.view(-1, seq_dim, input_dim).cuda())\n",
    "        labels = Variable(labels.cuda())\n",
    "        \n",
    "        optimizer.zero_grad()\n",
    "        \n",
    "        outputs = model(images)\n",
    "        \n",
    "        loss = criterion(outputs, labels)\n",
    "        loss_val = loss.data.cpu().numpy().reshape(1)[0]\n",
    "        loss.backward()\n",
    "        \n",
    "        optimizer.step()\n",
    "        \n",
    "        itern += 1\n",
    "        if itern%500 ==0:\n",
    "            correct = 0\n",
    "            total = 0\n",
    "            for test_images, test_labels in test_loader:\n",
    "                test_images = Variable(test_images.view(-1, seq_dim, input_dim).cuda())\n",
    "                test_preds = model(test_images)\n",
    "                _, predicted = torch.max(test_preds.data, 1)  \n",
    "                predicted = predicted.cpu()\n",
    "                total +=  test_labels.size(0)\n",
    "                correct += (predicted == test_labels).sum()\n",
    "            correct = correct.numpy().reshape(1)[0]\n",
    "            accuracy = 100 * correct/total    \n",
    "            print('Epoch {}, Iter {}, Loss {}, Accuracy {}'.format(epoch, itern,loss_val, accuracy))\n",
    "print('Training time {}'.format(time.time() - start_time))"
   ]
  },
  {
   "cell_type": "code",
   "execution_count": 16,
   "metadata": {},
   "outputs": [
    {
     "name": "stdout",
     "output_type": "stream",
     "text": [
      "Epoch 0, Iter 500, Loss 2.2935009002685547, Accuracy 11.35\n",
      "Epoch 1, Iter 1000, Loss 2.302536725997925, Accuracy 11.81\n",
      "Epoch 2, Iter 1500, Loss 1.9421212673187256, Accuracy 33.4\n",
      "Epoch 3, Iter 2000, Loss 0.6727659106254578, Accuracy 71.84\n",
      "Epoch 4, Iter 2500, Loss 0.4518503248691559, Accuracy 89.01\n",
      "Epoch 4, Iter 3000, Loss 0.21720018982887268, Accuracy 92.98\n",
      "Training time 81.64413857460022\n"
     ]
    }
   ],
   "source": [
    "input_dim = 28\n",
    "hidden_dim = 100\n",
    "layer_dim = 3\n",
    "output_dim = 10\n",
    "\n",
    "model = LSTMModel(input_dim, hidden_dim, layer_dim, output_dim)\n",
    "model.cuda()\n",
    "\n",
    "criterion = nn.CrossEntropyLoss()\n",
    "learning_rate = 0.1\n",
    "optimizer = torch.optim.SGD(model.parameters(), lr=learning_rate)\n",
    "\n",
    "seq_dim =28\n",
    "itern = 0\n",
    "start_time = time.time()\n",
    "for epoch in range(epochs):\n",
    "    for i, (images, labels) in enumerate(train_loader):\n",
    "        \n",
    "        images = Variable(images.view(-1, seq_dim, input_dim).cuda())\n",
    "        labels = Variable(labels.cuda())\n",
    "        \n",
    "        optimizer.zero_grad()\n",
    "        \n",
    "        outputs = model(images)\n",
    "        \n",
    "        loss = criterion(outputs, labels)\n",
    "        loss_val = loss.data.cpu().numpy().reshape(1)[0]\n",
    "        loss.backward()\n",
    "        \n",
    "        optimizer.step()\n",
    "        \n",
    "        itern += 1\n",
    "        if itern%500 ==0:\n",
    "            correct = 0\n",
    "            total = 0\n",
    "            for test_images, test_labels in test_loader:\n",
    "                test_images = Variable(test_images.view(-1, seq_dim, input_dim).cuda())\n",
    "                test_preds = model(test_images)\n",
    "                _, predicted = torch.max(test_preds.data, 1)  \n",
    "                predicted = predicted.cpu()\n",
    "                total +=  test_labels.size(0)\n",
    "                correct += (predicted == test_labels).sum()\n",
    "            correct = correct.numpy().reshape(1)[0]\n",
    "            accuracy = 100 * correct/total    \n",
    "            print('Epoch {}, Iter {}, Loss {}, Accuracy {}'.format(epoch, itern,loss_val, accuracy))\n",
    "print('Training time {}'.format(time.time() - start_time))"
   ]
  },
  {
   "cell_type": "code",
   "execution_count": null,
   "metadata": {},
   "outputs": [],
   "source": []
  },
  {
   "cell_type": "code",
   "execution_count": null,
   "metadata": {},
   "outputs": [],
   "source": []
  },
  {
   "cell_type": "code",
   "execution_count": null,
   "metadata": {},
   "outputs": [],
   "source": []
  },
  {
   "cell_type": "code",
   "execution_count": null,
   "metadata": {},
   "outputs": [],
   "source": []
  },
  {
   "cell_type": "code",
   "execution_count": null,
   "metadata": {},
   "outputs": [],
   "source": []
  },
  {
   "cell_type": "code",
   "execution_count": null,
   "metadata": {},
   "outputs": [],
   "source": []
  },
  {
   "cell_type": "code",
   "execution_count": null,
   "metadata": {},
   "outputs": [],
   "source": []
  },
  {
   "cell_type": "code",
   "execution_count": null,
   "metadata": {},
   "outputs": [],
   "source": []
  },
  {
   "cell_type": "code",
   "execution_count": null,
   "metadata": {},
   "outputs": [],
   "source": []
  },
  {
   "cell_type": "code",
   "execution_count": null,
   "metadata": {},
   "outputs": [],
   "source": []
  },
  {
   "cell_type": "code",
   "execution_count": null,
   "metadata": {},
   "outputs": [],
   "source": []
  },
  {
   "cell_type": "code",
   "execution_count": null,
   "metadata": {},
   "outputs": [],
   "source": []
  },
  {
   "cell_type": "code",
   "execution_count": null,
   "metadata": {},
   "outputs": [],
   "source": []
  },
  {
   "cell_type": "code",
   "execution_count": null,
   "metadata": {},
   "outputs": [],
   "source": []
  },
  {
   "cell_type": "code",
   "execution_count": null,
   "metadata": {},
   "outputs": [],
   "source": []
  },
  {
   "cell_type": "code",
   "execution_count": null,
   "metadata": {},
   "outputs": [],
   "source": []
  }
 ],
 "metadata": {
  "kernelspec": {
   "display_name": "Python 3",
   "language": "python",
   "name": "python3"
  },
  "language_info": {
   "codemirror_mode": {
    "name": "ipython",
    "version": 3
   },
   "file_extension": ".py",
   "mimetype": "text/x-python",
   "name": "python",
   "nbconvert_exporter": "python",
   "pygments_lexer": "ipython3",
   "version": "3.7.3"
  }
 },
 "nbformat": 4,
 "nbformat_minor": 2
}
