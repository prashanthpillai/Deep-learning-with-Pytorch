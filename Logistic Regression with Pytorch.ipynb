{
 "cells": [
  {
   "cell_type": "code",
   "execution_count": 96,
   "metadata": {},
   "outputs": [],
   "source": [
    "import torch\n",
    "import torch.nn as nn\n",
    "import torchvision.transforms as transforms\n",
    "from torch.autograd import Variable\n",
    "import torchvision.datasets as datasets\n",
    "import time\n",
    "\n",
    "import matplotlib.pyplot as plt"
   ]
  },
  {
   "cell_type": "markdown",
   "metadata": {},
   "source": [
    "# Download MNIST data"
   ]
  },
  {
   "cell_type": "code",
   "execution_count": 6,
   "metadata": {},
   "outputs": [],
   "source": [
    "train_dataset = datasets.MNIST(root='./data',\n",
    "                              train=True,\n",
    "                              transform=transforms.ToTensor(),\n",
    "                              download=True)\n",
    "test_dataset = datasets.MNIST(root='./data',\n",
    "                              train=False,\n",
    "                              transform=transforms.ToTensor(),\n",
    "                              download=True)"
   ]
  },
  {
   "cell_type": "code",
   "execution_count": 9,
   "metadata": {},
   "outputs": [
    {
     "data": {
      "text/plain": [
       "(60000, 10000)"
      ]
     },
     "execution_count": 9,
     "metadata": {},
     "output_type": "execute_result"
    }
   ],
   "source": [
    "len(train_dataset), len(test_dataset)"
   ]
  },
  {
   "cell_type": "code",
   "execution_count": 18,
   "metadata": {},
   "outputs": [
    {
     "data": {
      "text/plain": [
       "tuple"
      ]
     },
     "execution_count": 18,
     "metadata": {},
     "output_type": "execute_result"
    }
   ],
   "source": [
    "type(train_dataset[0])"
   ]
  },
  {
   "cell_type": "code",
   "execution_count": 14,
   "metadata": {
    "scrolled": false
   },
   "outputs": [
    {
     "data": {
      "text/plain": [
       "torch.Size([28, 28])"
      ]
     },
     "execution_count": 14,
     "metadata": {},
     "output_type": "execute_result"
    }
   ],
   "source": [
    "train_dataset[0][0][0].shape"
   ]
  },
  {
   "cell_type": "code",
   "execution_count": 34,
   "metadata": {
    "scrolled": false
   },
   "outputs": [
    {
     "name": "stdout",
     "output_type": "stream",
     "text": [
      "Label 7\n"
     ]
    },
    {
     "data": {
      "image/png": "[encoded data removed]",
      "text/plain": [
       "<Figure size 432x288 with 1 Axes>"
      ]
     },
     "metadata": {
      "needs_background": "light"
     },
     "output_type": "display_data"
    }
   ],
   "source": [
    "img_num = 101\n",
    "\n",
    "img_example = train_dataset[img_num][0].numpy().reshape(28,28)\n",
    "img_example.shape\n",
    "plt.imshow(img_example, cmap='gray')\n",
    "print('Label {}'.format(train_dataset[img_num][1]))"
   ]
  },
  {
   "cell_type": "markdown",
   "metadata": {},
   "source": [
    "# Make datasets iterable"
   ]
  },
  {
   "cell_type": "code",
   "execution_count": 35,
   "metadata": {},
   "outputs": [
    {
     "data": {
      "text/plain": [
       "60000"
      ]
     },
     "execution_count": 35,
     "metadata": {},
     "output_type": "execute_result"
    }
   ],
   "source": [
    "len(train_dataset)"
   ]
  },
  {
   "cell_type": "code",
   "execution_count": 36,
   "metadata": {},
   "outputs": [
    {
     "name": "stdout",
     "output_type": "stream",
     "text": [
      "Iterations 3000.0\n"
     ]
    }
   ],
   "source": [
    "batch_size = 100\n",
    "epochs = 5\n",
    "iterations = epochs * len(train_dataset)/batch_size\n",
    "print('Iterations {}'.format(iterations))"
   ]
  },
  {
   "cell_type": "code",
   "execution_count": 37,
   "metadata": {},
   "outputs": [],
   "source": [
    "train_loader = torch.utils.data.DataLoader(dataset=train_dataset, batch_size=batch_size,\n",
    "                                          shuffle=True)"
   ]
  },
  {
   "cell_type": "code",
   "execution_count": 39,
   "metadata": {},
   "outputs": [
    {
     "data": {
      "text/plain": [
       "True"
      ]
     },
     "execution_count": 39,
     "metadata": {},
     "output_type": "execute_result"
    }
   ],
   "source": [
    "#check for dataset iterability\n",
    "import collections\n",
    "isinstance(train_loader, collections.Iterable)"
   ]
  },
  {
   "cell_type": "code",
   "execution_count": 40,
   "metadata": {},
   "outputs": [],
   "source": [
    "test_loader = torch.utils.data.DataLoader(dataset=test_dataset, batch_size=batch_size,\n",
    "                                          shuffle=False)"
   ]
  },
  {
   "cell_type": "code",
   "execution_count": 41,
   "metadata": {},
   "outputs": [
    {
     "data": {
      "text/plain": [
       "True"
      ]
     },
     "execution_count": 41,
     "metadata": {},
     "output_type": "execute_result"
    }
   ],
   "source": [
    "#check for dataset iterability\n",
    "import collections\n",
    "isinstance(test_loader, collections.Iterable)"
   ]
  },
  {
   "cell_type": "markdown",
   "metadata": {},
   "source": [
    "# Build model"
   ]
  },
  {
   "cell_type": "code",
   "execution_count": 42,
   "metadata": {},
   "outputs": [],
   "source": [
    "class LogisticRegression(nn.Module):\n",
    "    def __init__(self, input_dim, output_dim):\n",
    "        super(LogisticRegression, self).__init__()\n",
    "        self.Linear = nn.Linear(input_dim, output_dim)\n",
    "        \n",
    "    def forward(self, x):\n",
    "        out = self.Linear(x)\n",
    "        return out"
   ]
  },
  {
   "cell_type": "code",
   "execution_count": 43,
   "metadata": {},
   "outputs": [],
   "source": [
    "input_dim = 28*28\n",
    "output_dim = 10\n",
    "model = LogisticRegression(input_dim, output_dim)"
   ]
  },
  {
   "cell_type": "code",
   "execution_count": 102,
   "metadata": {},
   "outputs": [
    {
     "data": {
      "text/plain": [
       "LogisticRegression(\n",
       "  (Linear): Linear(in_features=784, out_features=10, bias=True)\n",
       ")"
      ]
     },
     "execution_count": 102,
     "metadata": {},
     "output_type": "execute_result"
    }
   ],
   "source": [
    "model"
   ]
  },
  {
   "cell_type": "code",
   "execution_count": 44,
   "metadata": {},
   "outputs": [],
   "source": [
    "criterion = nn.CrossEntropyLoss()"
   ]
  },
  {
   "cell_type": "code",
   "execution_count": 46,
   "metadata": {},
   "outputs": [],
   "source": [
    "learning_rate = 0.01\n",
    "optimizer = torch.optim.SGD(model.parameters(), lr=learning_rate)"
   ]
  },
  {
   "cell_type": "code",
   "execution_count": 49,
   "metadata": {},
   "outputs": [
    {
     "data": {
      "text/plain": [
       "[Parameter containing:\n",
       " tensor([[-0.0107, -0.0262, -0.0162,  ..., -0.0071, -0.0035,  0.0063],\n",
       "         [-0.0158,  0.0321,  0.0351,  ..., -0.0011, -0.0285, -0.0332],\n",
       "         [-0.0106,  0.0056, -0.0063,  ..., -0.0171,  0.0299, -0.0098],\n",
       "         ...,\n",
       "         [ 0.0351,  0.0276,  0.0343,  ..., -0.0188, -0.0357, -0.0324],\n",
       "         [-0.0263,  0.0353,  0.0135,  ..., -0.0339,  0.0210, -0.0203],\n",
       "         [-0.0026,  0.0193, -0.0252,  ...,  0.0284, -0.0030, -0.0139]],\n",
       "        requires_grad=True), Parameter containing:\n",
       " tensor([-0.0250,  0.0305, -0.0147, -0.0256,  0.0273,  0.0008,  0.0079, -0.0185,\n",
       "         -0.0127, -0.0213], requires_grad=True)]"
      ]
     },
     "execution_count": 49,
     "metadata": {},
     "output_type": "execute_result"
    }
   ],
   "source": [
    "list(model.parameters())"
   ]
  },
  {
   "cell_type": "code",
   "execution_count": 60,
   "metadata": {},
   "outputs": [
    {
     "name": "stdout",
     "output_type": "stream",
     "text": [
      "Coefficents : torch.Size([10, 784])\n",
      "Bias : torch.Size([10])\n"
     ]
    }
   ],
   "source": [
    "print('Coefficents : {}'.format(list(model.parameters())[0].shape))\n",
    "print('Bias : {}'.format(list(model.parameters())[1].shape))"
   ]
  },
  {
   "cell_type": "markdown",
   "metadata": {},
   "source": [
    "# Train model"
   ]
  },
  {
   "cell_type": "code",
   "execution_count": 99,
   "metadata": {
    "scrolled": false
   },
   "outputs": [
    {
     "name": "stdout",
     "output_type": "stream",
     "text": [
      "Epoch 0, Iter 500, Loss 0.8704499006271362, Accuracy 84.85\n",
      "Epoch 1, Iter 1000, Loss 0.6596279740333557, Accuracy 87.09\n",
      "Epoch 2, Iter 1500, Loss 0.5788799524307251, Accuracy 87.85\n",
      "Epoch 3, Iter 2000, Loss 0.45839253067970276, Accuracy 88.47\n",
      "Epoch 4, Iter 2500, Loss 0.35587742924690247, Accuracy 88.95\n",
      "Epoch 4, Iter 3000, Loss 0.5180630087852478, Accuracy 89.22\n",
      "Training time 73.30112791061401\n"
     ]
    }
   ],
   "source": [
    "#CPU implementation\n",
    "input_dim = 28*28\n",
    "output_dim = 10\n",
    "model = LogisticRegression(input_dim, output_dim)\n",
    "criterion = nn.CrossEntropyLoss()\n",
    "learning_rate = 0.01\n",
    "optimizer = torch.optim.SGD(model.parameters(), lr=learning_rate)\n",
    "\n",
    "accuracy = -999\n",
    "itern = 0\n",
    "start_time = time.time()\n",
    "for epoch in range(epochs):\n",
    "    for i, (images, labels) in enumerate(train_loader):\n",
    "        \n",
    "        images = Variable(images.view(-1,28*28))\n",
    "        labels = Variable(labels)\n",
    "        \n",
    "        optimizer.zero_grad()\n",
    "        \n",
    "        outputs = model(images)\n",
    "        \n",
    "        loss = criterion(outputs, labels)\n",
    "        loss_val = loss.data.numpy().reshape(1)[0]\n",
    "        loss.backward()\n",
    "        \n",
    "        optimizer.step()\n",
    "        \n",
    "        itern += 1\n",
    "        if itern%500 ==0:\n",
    "            correct = 0\n",
    "            total = 0\n",
    "            for test_images, test_labels in test_loader:\n",
    "                test_images = Variable(test_images.view(-1, 28*28))\n",
    "                test_preds = model(test_images)\n",
    "                _, predicted = torch.max(test_preds.data, 1)\n",
    "                total +=  test_labels.size(0)\n",
    "                correct += (predicted == test_labels).sum()\n",
    "            correct = correct.numpy().reshape(1)[0]\n",
    "            accuracy = 100 * correct/total    \n",
    "            print('Epoch {}, Iter {}, Loss {}, Accuracy {}'.format(epoch, itern,loss_val, accuracy))\n",
    "print('Training time {}'.format(time.time() - start_time))"
   ]
  },
  {
   "cell_type": "code",
   "execution_count": 104,
   "metadata": {},
   "outputs": [
    {
     "name": "stdout",
     "output_type": "stream",
     "text": [
      "Epoch 0, Iter 500, Loss 0.8775678277015686, Accuracy 84.78\n",
      "Epoch 1, Iter 1000, Loss 0.7548774480819702, Accuracy 86.96\n",
      "Epoch 2, Iter 1500, Loss 0.4737601578235626, Accuracy 88.03\n",
      "Epoch 3, Iter 2000, Loss 0.4712175130844116, Accuracy 88.56\n",
      "Epoch 4, Iter 2500, Loss 0.4331512749195099, Accuracy 89.04\n",
      "Epoch 4, Iter 3000, Loss 0.40139007568359375, Accuracy 89.28\n",
      "Training time 41.84153485298157\n"
     ]
    }
   ],
   "source": [
    "#GPU implementation\n",
    "input_dim = 28*28\n",
    "output_dim = 10\n",
    "model = LogisticRegression(input_dim, output_dim)\n",
    "model.cuda()\n",
    "criterion = nn.CrossEntropyLoss()\n",
    "learning_rate = 0.01\n",
    "optimizer = torch.optim.SGD(model.parameters(), lr=learning_rate)\n",
    "\n",
    "accuracy = -999\n",
    "itern = 0\n",
    "start_time = time.time()\n",
    "for epoch in range(epochs):\n",
    "    for i, (images, labels) in enumerate(train_loader):\n",
    "        \n",
    "        images = Variable(images.view(-1,28*28).cuda())\n",
    "        labels = Variable(labels.cuda())\n",
    "        \n",
    "        optimizer.zero_grad()\n",
    "        \n",
    "        outputs = model(images)\n",
    "        \n",
    "        loss = criterion(outputs, labels)\n",
    "        loss_val = loss.data.cpu().numpy().reshape(1)[0]\n",
    "        loss.backward()\n",
    "        \n",
    "        optimizer.step()\n",
    "        \n",
    "        itern += 1\n",
    "        if itern%500 ==0:\n",
    "            correct = 0\n",
    "            total = 0\n",
    "            for test_images, test_labels in test_loader:\n",
    "                test_images = Variable(test_images.view(-1, 28*28).cuda())\n",
    "                test_preds = model(test_images)\n",
    "                _, predicted = torch.max(test_preds.data, 1)  \n",
    "                predicted = predicted.cpu()\n",
    "                total +=  test_labels.size(0)\n",
    "                correct += (predicted == test_labels).sum()\n",
    "            correct = correct.numpy().reshape(1)[0]\n",
    "            accuracy = 100 * correct/total    \n",
    "            print('Epoch {}, Iter {}, Loss {}, Accuracy {}'.format(epoch, itern,loss_val, accuracy))\n",
    "print('Training time {}'.format(time.time() - start_time))"
   ]
  },
  {
   "cell_type": "code",
   "execution_count": null,
   "metadata": {},
   "outputs": [],
   "source": []
  },
  {
   "cell_type": "code",
   "execution_count": null,
   "metadata": {},
   "outputs": [],
   "source": []
  }
 ],
 "metadata": {
  "kernelspec": {
   "display_name": "Python 3",
   "language": "python",
   "name": "python3"
  },
  "language_info": {
   "codemirror_mode": {
    "name": "ipython",
    "version": 3
   },
   "file_extension": ".py",
   "mimetype": "text/x-python",
   "name": "python",
   "nbconvert_exporter": "python",
   "pygments_lexer": "ipython3",
   "version": "3.7.3"
  }
 },
 "nbformat": 4,
 "nbformat_minor": 2
}
