{
 "cells": [
  {
   "cell_type": "code",
   "execution_count": 1,
   "metadata": {},
   "outputs": [],
   "source": [
    "import torch\n",
    "import torch.nn as nn\n",
    "import torchvision.transforms as transforms\n",
    "import torchvision.datasets as datasets\n",
    "from torch.autograd import Variable\n",
    "import time"
   ]
  },
  {
   "cell_type": "code",
   "execution_count": 2,
   "metadata": {},
   "outputs": [],
   "source": [
    "train_dataset = datasets.MNIST(root='./data',\n",
    "                               train=True,\n",
    "                              transform=transforms.ToTensor(),\n",
    "                              download=True)\n",
    "test_dataset = datasets.MNIST(root='./data',\n",
    "                               train=False,\n",
    "                              transform=transforms.ToTensor(),\n",
    "                              download=True)"
   ]
  },
  {
   "cell_type": "code",
   "execution_count": 3,
   "metadata": {},
   "outputs": [],
   "source": [
    "batch_size = 100\n",
    "epochs = 5\n",
    "iterations = epochs * len(train_dataset)/batch_size\n",
    "train_loader = torch.utils.data.DataLoader(dataset=train_dataset, batch_size=batch_size,\n",
    "                                          shuffle=True)\n",
    "test_loader = torch.utils.data.DataLoader(dataset=test_dataset, batch_size=batch_size,\n",
    "                                          shuffle=False)"
   ]
  },
  {
   "cell_type": "code",
   "execution_count": 39,
   "metadata": {},
   "outputs": [],
   "source": [
    "class RNNModel(nn.Module):\n",
    "    def __init__(self, input_dim, hidden_dim, layer_dim, output_dim):\n",
    "        super(RNNModel, self).__init__()\n",
    "        self.hidden_dim = hidden_dim  #No. of hidden dimensions\n",
    "        self.layer_dim = layer_dim  #No. of hidden layers    \n",
    "        self.rnn = nn.RNN(input_dim,hidden_dim,layer_dim, batch_first=True, nonlinearity='relu')\n",
    "        self.fc = nn.Linear(hidden_dim, output_dim)\n",
    "        \n",
    "    def forward(self, x):\n",
    "        #hidden -> (layer dim, batch dim, hidden dim)\n",
    "        h0 = Variable(torch.zeros(self.layer_dim, x.size(0), self.hidden_dim).cuda())\n",
    "        out, hn = self.rnn(x, h0)\n",
    "        out = self.fc(out[:,-1,:])\n",
    "        return out"
   ]
  },
  {
   "cell_type": "code",
   "execution_count": 80,
   "metadata": {},
   "outputs": [],
   "source": [
    "input_dim = 28\n",
    "hidden_dim = 100\n",
    "layer_dim = 2\n",
    "output_dim = 10\n",
    "model = RNNModel(input_dim, hidden_dim, layer_dim, output_dim)\n",
    "model.cuda()\n",
    "\n",
    "criterion = nn.CrossEntropyLoss()\n",
    "learning_rate = 0.01\n",
    "optimizer = torch.optim.SGD(model.parameters(), lr=learning_rate)\n"
   ]
  },
  {
   "cell_type": "code",
   "execution_count": 81,
   "metadata": {},
   "outputs": [
    {
     "data": {
      "text/plain": [
       "10"
      ]
     },
     "execution_count": 81,
     "metadata": {},
     "output_type": "execute_result"
    }
   ],
   "source": [
    "len(list(model.parameters()))"
   ]
  },
  {
   "cell_type": "code",
   "execution_count": 82,
   "metadata": {},
   "outputs": [
    {
     "name": "stdout",
     "output_type": "stream",
     "text": [
      "torch.Size([100, 28])\n",
      "torch.Size([100, 100])\n",
      "torch.Size([100])\n",
      "torch.Size([100])\n",
      "torch.Size([100, 100])\n",
      "torch.Size([100, 100])\n",
      "torch.Size([100])\n",
      "torch.Size([100])\n",
      "torch.Size([10, 100])\n",
      "torch.Size([10])\n"
     ]
    }
   ],
   "source": [
    "param=[]\n",
    "for iparam in list(model.parameters()):\n",
    "    print(iparam.shape)\n",
    "    param.append(iparam)"
   ]
  },
  {
   "cell_type": "code",
   "execution_count": 83,
   "metadata": {},
   "outputs": [
    {
     "data": {
      "text/plain": [
       "Parameter containing:\n",
       "tensor([[ 0.0541, -0.0383, -0.0616,  ..., -0.0385,  0.0623,  0.0840],\n",
       "        [ 0.0446, -0.0623,  0.0652,  ..., -0.0944, -0.0854,  0.0564],\n",
       "        [-0.0670,  0.0710, -0.0507,  ...,  0.0920,  0.0675, -0.0261],\n",
       "        ...,\n",
       "        [ 0.0919,  0.0441, -0.0931,  ..., -0.0791,  0.0547,  0.0045],\n",
       "        [ 0.0427, -0.0990, -0.0832,  ..., -0.0203,  0.0399,  0.0945],\n",
       "        [-0.0271,  0.0473, -0.0990,  ..., -0.0747,  0.0239,  0.0899]],\n",
       "       device='cuda:0', requires_grad=True)"
      ]
     },
     "execution_count": 83,
     "metadata": {},
     "output_type": "execute_result"
    }
   ],
   "source": [
    "param[0]"
   ]
  },
  {
   "cell_type": "code",
   "execution_count": 84,
   "metadata": {},
   "outputs": [
    {
     "name": "stdout",
     "output_type": "stream",
     "text": [
      "Epoch 0, Iter 500, Loss 2.2933075428009033, Accuracy 11.35\n",
      "Epoch 1, Iter 1000, Loss 2.2921652793884277, Accuracy 11.35\n",
      "Epoch 2, Iter 1500, Loss 2.293006420135498, Accuracy 13.38\n",
      "Epoch 3, Iter 2000, Loss 2.2184805870056152, Accuracy 32.34\n",
      "Epoch 4, Iter 2500, Loss 1.1155391931533813, Accuracy 66.43\n",
      "Epoch 4, Iter 3000, Loss 0.6878959536552429, Accuracy 76.03\n",
      "Training time 74.6597044467926\n"
     ]
    }
   ],
   "source": [
    "seq_dim =28\n",
    "itern = 0\n",
    "start_time = time.time()\n",
    "for epoch in range(epochs):\n",
    "    for i, (images, labels) in enumerate(train_loader):\n",
    "        \n",
    "        images = Variable(images.view(-1, seq_dim, input_dim).cuda())\n",
    "        labels = Variable(labels.cuda())\n",
    "        \n",
    "        optimizer.zero_grad()\n",
    "        \n",
    "        outputs = model(images)\n",
    "        \n",
    "        loss = criterion(outputs, labels)\n",
    "        loss_val = loss.data.cpu().numpy().reshape(1)[0]\n",
    "        loss.backward()\n",
    "        \n",
    "        optimizer.step()\n",
    "        \n",
    "        itern += 1\n",
    "        if itern%500 ==0:\n",
    "            correct = 0\n",
    "            total = 0\n",
    "            for test_images, test_labels in test_loader:\n",
    "                test_images = Variable(test_images.view(-1, seq_dim, input_dim).cuda())\n",
    "                test_preds = model(test_images)\n",
    "                _, predicted = torch.max(test_preds.data, 1)  \n",
    "                predicted = predicted.cpu()\n",
    "                total +=  test_labels.size(0)\n",
    "                correct += (predicted == test_labels).sum()\n",
    "            correct = correct.numpy().reshape(1)[0]\n",
    "            accuracy = 100 * correct/total    \n",
    "            print('Epoch {}, Iter {}, Loss {}, Accuracy {}'.format(epoch, itern,loss_val, accuracy))\n",
    "print('Training time {}'.format(time.time() - start_time))"
   ]
  },
  {
   "cell_type": "code",
   "execution_count": null,
   "metadata": {},
   "outputs": [],
   "source": []
  },
  {
   "cell_type": "code",
   "execution_count": null,
   "metadata": {},
   "outputs": [],
   "source": []
  },
  {
   "cell_type": "code",
   "execution_count": null,
   "metadata": {},
   "outputs": [],
   "source": []
  },
  {
   "cell_type": "code",
   "execution_count": null,
   "metadata": {},
   "outputs": [],
   "source": []
  }
 ],
 "metadata": {
  "kernelspec": {
   "display_name": "Python 3",
   "language": "python",
   "name": "python3"
  },
  "language_info": {
   "codemirror_mode": {
    "name": "ipython",
    "version": 3
   },
   "file_extension": ".py",
   "mimetype": "text/x-python",
   "name": "python",
   "nbconvert_exporter": "python",
   "pygments_lexer": "ipython3",
   "version": "3.7.3"
  }
 },
 "nbformat": 4,
 "nbformat_minor": 2
}
